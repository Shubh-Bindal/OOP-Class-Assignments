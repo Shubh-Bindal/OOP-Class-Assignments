{
 "cells": [
  {
   "cell_type": "markdown",
   "metadata": {},
   "source": [
    "# A. Primitive Types"
   ]
  },
  {
   "cell_type": "markdown",
   "metadata": {},
   "source": [
    "1. A variable is a storage location having a symbolic name which contains some known or unknown quantity of information known as values."
   ]
  },
  {
   "cell_type": "markdown",
   "metadata": {},
   "source": [
    "2. Integer,Float,String and Boolean."
   ]
  },
  {
   "cell_type": "markdown",
   "metadata": {},
   "source": [
    "3. When the string spans to multiple lines."
   ]
  },
  {
   "cell_type": "markdown",
   "metadata": {},
   "source": [
    "4. 'n'"
   ]
  },
  {
   "cell_type": "markdown",
   "metadata": {},
   "source": [
    "5. 'a'"
   ]
  },
  {
   "cell_type": "markdown",
   "metadata": {},
   "source": [
    "6. \"nanda Viha\""
   ]
  },
  {
   "cell_type": "markdown",
   "metadata": {},
   "source": [
    "7. len(name) function gives us the length of string \"name\"."
   ]
  },
  {
   "cell_type": "code",
   "execution_count": 8,
   "metadata": {},
   "outputs": [
    {
     "data": {
      "text/plain": [
       "'\"Eifiel tower\" is in paris'"
      ]
     },
     "execution_count": 8,
     "metadata": {},
     "output_type": "execute_result"
    }
   ],
   "source": [
    "8. #Escape Sequences are characters used to insert characters in a string that are not allowed otherwise.\n",
    "#example:\n",
    "a=\"\\\"Eifiel tower\\\" is in paris\"\n",
    "a# to print quotes within string we need to escape character(\\)"
   ]
  },
  {
   "cell_type": "markdown",
   "metadata": {},
   "source": [
    "9. "
   ]
  },
  {
   "cell_type": "markdown",
   "metadata": {},
   "source": [
    "10. 'Ananda Vihar'"
   ]
  },
  {
   "cell_type": "markdown",
   "metadata": {},
   "source": [
    "11. It removes all the whitspaces present at the beginning or at the end of the string."
   ]
  },
  {
   "cell_type": "markdown",
   "metadata": {},
   "source": [
    "12. It will return the index of the starting character if that string is present in the desired string,which is 8in our case."
   ]
  },
  {
   "cell_type": "markdown",
   "metadata": {},
   "source": [
    "13. 'Ananda Viharesort'"
   ]
  },
  {
   "cell_type": "code",
   "execution_count": 14,
   "metadata": {},
   "outputs": [
    {
     "data": {
      "text/plain": [
       "False"
      ]
     },
     "execution_count": 14,
     "metadata": {},
     "output_type": "execute_result"
    }
   ],
   "source": [
    "#14.\n",
    "name = \"Ananda Vihar\"\n",
    "bool(\"Ramana\" in name)"
   ]
  },
  {
   "cell_type": "markdown",
   "metadata": {},
   "source": [
    "15. Integer,float and Complex numbers."
   ]
  },
  {
   "cell_type": "markdown",
   "metadata": {},
   "source": [
    "# B. Control Flow"
   ]
  },
  {
   "cell_type": "markdown",
   "metadata": {},
   "source": [
    "1. First will return a float value while the latter one will return an integer value."
   ]
  },
  {
   "cell_type": "markdown",
   "metadata": {},
   "source": [
    "2. 25 X 25 X 25=15625"
   ]
  },
  {
   "cell_type": "markdown",
   "metadata": {},
   "source": [
    "3. It is a unary notation which is equivalent to k=k+2.Hence, the answer is 7."
   ]
  },
  {
   "cell_type": "markdown",
   "metadata": {},
   "source": [
    "4. We can use the built-in function of Python known as round()."
   ]
  },
  {
   "cell_type": "markdown",
   "metadata": {},
   "source": [
    "5. 1.0"
   ]
  },
  {
   "cell_type": "markdown",
   "metadata": {},
   "source": [
    "6. Since it is a string and all the strings are true in python.The result will be True."
   ]
  },
  {
   "cell_type": "markdown",
   "metadata": {},
   "source": [
    "7. None,False,zero of any numeric type,empty sequence ex-(),[],\"\" ,empty mapping ex-{} etc."
   ]
  },
  {
   "cell_type": "markdown",
   "metadata": {},
   "source": [
    "8. It would be False as first one is integer while latter one is a string."
   ]
  },
  {
   "cell_type": "code",
   "execution_count": 8,
   "metadata": {},
   "outputs": [
    {
     "data": {
      "text/plain": [
       "True"
      ]
     },
     "execution_count": 8,
     "metadata": {},
     "output_type": "execute_result"
    }
   ],
   "source": [
    "# 9.\n",
    "\"bag\" > \"apple\"\n",
    "# The result is True because of the presence of the relative operator the reult is a boolean.\n",
    "# Also python compares the first letter of both strings and according to ASCII table results it out."
   ]
  },
  {
   "cell_type": "code",
   "execution_count": 11,
   "metadata": {},
   "outputs": [
    {
     "data": {
      "text/plain": [
       "False"
      ]
     },
     "execution_count": 11,
     "metadata": {},
     "output_type": "execute_result"
    }
   ],
   "source": [
    "# 10.\n",
    "not(True or False)\n",
    "# The result is False as result of True or false is True according to functionality of OR opearator and then\n",
    "# due to the presence of NOT operator it is reversed and converted to False."
   ]
  },
  {
   "cell_type": "markdown",
   "metadata": {},
   "source": [
    "11. For all the values of age lying between 15 and 44(both inclusive) it will evaluate to True."
   ]
  },
  {
   "cell_type": "code",
   "execution_count": 14,
   "metadata": {},
   "outputs": [
    {
     "name": "stdout",
     "output_type": "stream",
     "text": [
      "range(1, 10, 2)\n"
     ]
    },
    {
     "data": {
      "text/plain": [
       "[1, 3, 5, 7, 9]"
      ]
     },
     "execution_count": 14,
     "metadata": {},
     "output_type": "execute_result"
    }
   ],
   "source": [
    "# 12. If we Directly run that it would result in range(1,10,2) but inorder to see the elements it represents\n",
    "# we have to use list(range(1,10,2))\n",
    "print(range(1, 10, 2))\n",
    "list(range(1, 10, 2))\n",
    "# Since it is starting from 1 and ending upto 10-1=9 with a step size of 2."
   ]
  },
  {
   "cell_type": "markdown",
   "metadata": {},
   "source": []
  }
 ],
 "metadata": {
  "kernelspec": {
   "display_name": "Python 3",
   "language": "python",
   "name": "python3"
  },
  "language_info": {
   "codemirror_mode": {
    "name": "ipython",
    "version": 3
   },
   "file_extension": ".py",
   "mimetype": "text/x-python",
   "name": "python",
   "nbconvert_exporter": "python",
   "pygments_lexer": "ipython3",
   "version": "3.8.5"
  }
 },
 "nbformat": 4,
 "nbformat_minor": 4
}
